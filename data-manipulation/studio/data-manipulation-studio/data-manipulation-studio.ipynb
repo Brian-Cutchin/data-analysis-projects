{
 "cells": [
  {
   "cell_type": "markdown",
   "id": "1894ccac",
   "metadata": {},
   "source": [
    "# Data Manipulation Studio\n",
    "\n",
    "For this studio, we will revisit our California farmers looking for advice on growing pumpkins and the same [pumpkins dataset](https://www.kaggle.com/usda/a-year-of-pumpkin-prices) as provided by the U.S. Department of Agriculture. You may have to clean data in the process of data manipulation, so feel free to pull up your notebook from the last class's studio.\n",
    "\n",
    "We will now be focusing our attention on a different region in the United States, the Northeast. When you open up the `dataset` folder, you will have 13 CSVs, including the San Francisco and Los Angeles data from the last lesson. The 13 CSVs are each a different terminal market in the United States.\n",
    "\n",
    "## Getting Started\n",
    "\n",
    "Import the CSVs for each of the following cities: Baltimore, Boston, New York, and Philadelphia. Set up a dataframe for each city."
   ]
  },
  {
   "cell_type": "code",
   "execution_count": 59,
   "id": "66c9a7e7",
   "metadata": {},
   "outputs": [
    {
     "name": "stdout",
     "output_type": "stream",
     "text": [
      "    Commodity Name  City Name  Type             Package      Variety  \\\n",
      "2         PUMPKINS  BALTIMORE   NaN        24 inch bins  HOWDEN TYPE   \n",
      "3         PUMPKINS  BALTIMORE   NaN        24 inch bins  HOWDEN TYPE   \n",
      "4         PUMPKINS  BALTIMORE   NaN        24 inch bins  HOWDEN TYPE   \n",
      "5         PUMPKINS  BALTIMORE   NaN        24 inch bins  HOWDEN TYPE   \n",
      "6         PUMPKINS  BALTIMORE   NaN        36 inch bins  HOWDEN TYPE   \n",
      "..             ...        ...   ...                 ...          ...   \n",
      "148       PUMPKINS  BALTIMORE   NaN  1/2 bushel cartons    MINIATURE   \n",
      "149       PUMPKINS  BALTIMORE   NaN  1/2 bushel cartons    MINIATURE   \n",
      "150       PUMPKINS  BALTIMORE   NaN  1/2 bushel cartons    MINIATURE   \n",
      "151       PUMPKINS  BALTIMORE   NaN  1/2 bushel cartons    MINIATURE   \n",
      "152       PUMPKINS  BALTIMORE   NaN  1/2 bushel cartons    MINIATURE   \n",
      "\n",
      "    Sub Variety  Grade        Date  Low Price  High Price  ...   Color  \\\n",
      "2           NaN    NaN  09/24/2016        160       160.0  ...     NaN   \n",
      "3           NaN    NaN  09/24/2016        160       160.0  ...     NaN   \n",
      "4           NaN    NaN  11/05/2016         90       100.0  ...     NaN   \n",
      "5           NaN    NaN  11/12/2016         90       100.0  ...     NaN   \n",
      "6           NaN    NaN  09/24/2016        160       170.0  ...     NaN   \n",
      "..          ...    ...         ...        ...         ...  ...     ...   \n",
      "148         NaN    NaN  09/30/2017         18        18.0  ...  ORANGE   \n",
      "149         NaN    NaN  09/30/2017         18        18.0  ...  ORANGE   \n",
      "150  ROUND TYPE    NaN  09/24/2016         15        15.0  ...     NaN   \n",
      "151  ROUND TYPE    NaN  10/01/2016         15        15.0  ...     NaN   \n",
      "152  ROUND TYPE    NaN  10/08/2016         15        15.0  ...     NaN   \n",
      "\n",
      "     Environment Unit of Sale  Quality Condition Appearance  Storage Crop  \\\n",
      "2            NaN          NaN      NaN       NaN        NaN      NaN  NaN   \n",
      "3            NaN          NaN      NaN       NaN        NaN      NaN  NaN   \n",
      "4            NaN          NaN      NaN       NaN        NaN      NaN  NaN   \n",
      "5            NaN          NaN      NaN       NaN        NaN      NaN  NaN   \n",
      "6            NaN          NaN      NaN       NaN        NaN      NaN  NaN   \n",
      "..           ...          ...      ...       ...        ...      ...  ...   \n",
      "148          NaN          NaN      NaN       NaN        NaN      NaN  NaN   \n",
      "149          NaN          NaN      NaN       NaN        NaN      NaN  NaN   \n",
      "150          NaN          NaN      NaN       NaN        NaN      NaN  NaN   \n",
      "151          NaN          NaN      NaN       NaN        NaN      NaN  NaN   \n",
      "152          NaN          NaN      NaN       NaN        NaN      NaN  NaN   \n",
      "\n",
      "     Repack  Trans Mode  \n",
      "2         N         NaN  \n",
      "3         N         NaN  \n",
      "4         N         NaN  \n",
      "5         N         NaN  \n",
      "6         N         NaN  \n",
      "..      ...         ...  \n",
      "148       N         NaN  \n",
      "149       N         NaN  \n",
      "150       N         NaN  \n",
      "151       N         NaN  \n",
      "152       N         NaN  \n",
      "\n",
      "[151 rows x 25 columns]\n"
     ]
    }
   ],
   "source": [
    "# Import the necessary libraries and CSVs. Make some dataframes!\n",
    "import pandas as pd\n",
    "import numpy as np\n",
    "\n",
    "baltdf = pd.read_csv(r'C:\\Users\\bccut\\OneDrive\\Desktop\\LaunchCode\\data-analysis-projects\\data-manipulation\\studio\\data-manipulation-studio\\dataset\\baltimore_9-24-2016_9-30-2017.csv')\n",
    "bostdf = pd.read_csv(r'C:\\Users\\bccut\\OneDrive\\Desktop\\LaunchCode\\data-analysis-projects\\data-manipulation\\studio\\data-manipulation-studio\\dataset\\boston_9-24-2016_9-30-2017.csv')\n",
    "nydf = pd.read_csv(r'C:\\Users\\bccut\\OneDrive\\Desktop\\LaunchCode\\data-analysis-projects\\data-manipulation\\studio\\data-manipulation-studio\\dataset\\new-york_9-24-2016_9-30-2017.csv')\n",
    "phillydf = pd.read_csv(r'C:\\Users\\bccut\\OneDrive\\Desktop\\LaunchCode\\data-analysis-projects\\data-manipulation\\studio\\data-manipulation-studio\\dataset\\philadelphia_9-24-2016_9-30-2017.csv')\n",
    "\n",
    "#print(baltdf.head(5))\n",
    "\n",
    "\n",
    "baltdf = baltdf.dropna(subset=['Variety'])\n",
    "\n",
    "print(baltdf)\n"
   ]
  },
  {
   "cell_type": "markdown",
   "id": "6cfda42f",
   "metadata": {},
   "source": [
    "## Clean Your Data\n",
    "\n",
    "In the last lesson, we cleaned the data to related to San Francisco. Pull up your notebook from the last lesson and use your cleaning skills to clean the dataframes as necessary."
   ]
  },
  {
   "cell_type": "code",
   "execution_count": null,
   "id": "98abc290",
   "metadata": {},
   "outputs": [],
   "source": [
    "# Clean your data here!\n",
    "baltdf = baltdf.drop(columns=[\"Grade\", \"Origin District\", \"Environment\", \"Unit of Sale\", \"Quality\", \"Condition\", \"Appearance\", \"Storage\", \"Crop\", \"Repack\", \"Trans Mode\"]) \n",
    "bostdf = bostdf.drop(columns=[\"Grade\", \"Origin District\", \"Environment\", \"Unit of Sale\", \"Quality\", \"Condition\", \"Appearance\", \"Storage\", \"Crop\", \"Repack\", \"Trans Mode\"]) \n",
    "nydf = nydf.drop(columns=[\"Grade\", \"Origin District\", \"Environment\", \"Unit of Sale\", \"Quality\", \"Condition\", \"Appearance\", \"Storage\", \"Crop\", \"Repack\", \"Trans Mode\"])\n",
    "phillydf = phillydf.drop(columns=[\"Grade\", \"Origin District\", \"Environment\", \"Unit of Sale\", \"Quality\", \"Condition\", \"Appearance\", \"Storage\", \"Crop\", \"Repack\", \"Trans Mode\"])  \n",
    "\n"
   ]
  },
  {
   "cell_type": "markdown",
   "id": "e70b01b9",
   "metadata": {},
   "source": [
    "## Combine Your Data\n",
    "\n",
    "Now that you have four clean sets of data, combine all four into one dataframe that represents the entire Northeast region."
   ]
  },
  {
   "cell_type": "code",
   "execution_count": 60,
   "id": "da059f8a",
   "metadata": {},
   "outputs": [
    {
     "name": "stdout",
     "output_type": "stream",
     "text": [
      "   Commodity Name     City Name  Type             Package      Variety  \\\n",
      "2        PUMPKINS     BALTIMORE   NaN        24 inch bins  HOWDEN TYPE   \n",
      "3        PUMPKINS     BALTIMORE   NaN        24 inch bins  HOWDEN TYPE   \n",
      "4        PUMPKINS     BALTIMORE   NaN        24 inch bins  HOWDEN TYPE   \n",
      "5        PUMPKINS     BALTIMORE   NaN        24 inch bins  HOWDEN TYPE   \n",
      "6        PUMPKINS     BALTIMORE   NaN        36 inch bins  HOWDEN TYPE   \n",
      "..            ...           ...   ...                 ...          ...   \n",
      "52       PUMPKINS  PHILADELPHIA   NaN  1/2 bushel cartons    MINIATURE   \n",
      "53       PUMPKINS  PHILADELPHIA   NaN  1/2 bushel cartons    MINIATURE   \n",
      "54       PUMPKINS  PHILADELPHIA   NaN  1/2 bushel cartons    MINIATURE   \n",
      "55       PUMPKINS  PHILADELPHIA   NaN  1/2 bushel cartons    MINIATURE   \n",
      "56       PUMPKINS  PHILADELPHIA   NaN  1/2 bushel cartons    MINIATURE   \n",
      "\n",
      "   Sub Variety  Grade        Date  Low Price  High Price  ...  Color  \\\n",
      "2          NaN    NaN  09/24/2016        160       160.0  ...    NaN   \n",
      "3          NaN    NaN  09/24/2016        160       160.0  ...    NaN   \n",
      "4          NaN    NaN  11/05/2016         90       100.0  ...    NaN   \n",
      "5          NaN    NaN  11/12/2016         90       100.0  ...    NaN   \n",
      "6          NaN    NaN  09/24/2016        160       170.0  ...    NaN   \n",
      "..         ...    ...         ...        ...         ...  ...    ...   \n",
      "52   FLAT TYPE    NaN  11/05/2016         16        18.0  ...    NaN   \n",
      "53   FLAT TYPE    NaN  08/26/2017         18        20.0  ...    NaN   \n",
      "54   FLAT TYPE    NaN  09/16/2017         16        16.0  ...    NaN   \n",
      "55   FLAT TYPE    NaN  09/23/2017         15        16.0  ...    NaN   \n",
      "56   FLAT TYPE    NaN  09/30/2017         15        18.0  ...    NaN   \n",
      "\n",
      "    Environment Unit of Sale Quality Condition Appearance  Storage Crop  \\\n",
      "2           NaN          NaN     NaN       NaN        NaN      NaN  NaN   \n",
      "3           NaN          NaN     NaN       NaN        NaN      NaN  NaN   \n",
      "4           NaN          NaN     NaN       NaN        NaN      NaN  NaN   \n",
      "5           NaN          NaN     NaN       NaN        NaN      NaN  NaN   \n",
      "6           NaN          NaN     NaN       NaN        NaN      NaN  NaN   \n",
      "..          ...          ...     ...       ...        ...      ...  ...   \n",
      "52          NaN   SHELLACKED     NaN       NaN        NaN      NaN  NaN   \n",
      "53          NaN   SHELLACKED     NaN       NaN        NaN      NaN  NaN   \n",
      "54          NaN   SHELLACKED     NaN       NaN        NaN      NaN  NaN   \n",
      "55          NaN   SHELLACKED     NaN       NaN        NaN      NaN  NaN   \n",
      "56          NaN   SHELLACKED     NaN       NaN        NaN      NaN  NaN   \n",
      "\n",
      "    Repack  Trans Mode  \n",
      "2        N         NaN  \n",
      "3        N         NaN  \n",
      "4        N         NaN  \n",
      "5        N         NaN  \n",
      "6        N         NaN  \n",
      "..     ...         ...  \n",
      "52       N         NaN  \n",
      "53       N         NaN  \n",
      "54       N         NaN  \n",
      "55       N         NaN  \n",
      "56       N         NaN  \n",
      "\n",
      "[672 rows x 25 columns]\n"
     ]
    }
   ],
   "source": [
    "# Combine the four dataframes into one!\n",
    "\n",
    "nedf = pd.concat([baltdf, bostdf, nydf, phillydf])\n",
    "\n",
    "print(nedf)\n"
   ]
  },
  {
   "cell_type": "markdown",
   "id": "8590082f",
   "metadata": {},
   "source": [
    "## Answer Some Questions\n",
    "\n",
    "Use `groupby()` and `agg()` to answer the following two questions:\n",
    "\n",
    "1. What is the mean low and high prices for each type of unit of sale in the Northeast region? In the last lesson, we learned that a unit of sale could be something like a bin or individually. \n",
    "2. What is the average number of pumpkins for each variety that came into terminal markets for the year by region? Pumpkin varieties include Howden and Fairytale pumpkins."
   ]
  },
  {
   "cell_type": "code",
   "execution_count": 52,
   "id": "c839639a",
   "metadata": {},
   "outputs": [
    {
     "name": "stdout",
     "output_type": "stream",
     "text": [
      "                       Low Price  High Price\n",
      "Package                                     \n",
      "1 1/9 bushel cartons   15.875000   16.739583\n",
      "1 1/9 bushel crates    16.058824   16.705882\n",
      "1/2 bushel cartons     16.030928   17.597938\n",
      "24 inch bins          188.005618  202.808989\n",
      "36 inch bins          170.458861  196.550633\n",
      "50 lb sacks            25.111111   25.333333\n",
      "bushel cartons         20.571429   22.857143\n",
      "each                   75.000000   80.000000\n"
     ]
    }
   ],
   "source": [
    "# Put your code here to find the mean low and high prices in the Northeast region for each type of unit of sale.\n",
    "salesdf = nedf.groupby(['Package']).mean(['Low Price', 'High Prince'])\n",
    "\n",
    "print(salesdf[['Low Price', 'High Price']])\n"
   ]
  },
  {
   "cell_type": "code",
   "execution_count": 85,
   "id": "b4b23352",
   "metadata": {},
   "outputs": [
    {
     "name": "stdout",
     "output_type": "stream",
     "text": [
      "City Name     Variety                 \n",
      "BALTIMORE     MINIATURE                    30\n",
      "              PIE TYPE                     26\n",
      "              CINDERELLA                   25\n",
      "              HOWDEN TYPE                  25\n",
      "              BIG MACK TYPE                24\n",
      "              FAIRYTALE                    16\n",
      "              MIXED HEIRLOOM VARIETIES      3\n",
      "              HOWDEN WHITE TYPE             2\n",
      "BOSTON        HOWDEN TYPE                 132\n",
      "              PIE TYPE                    114\n",
      "              BIG MACK TYPE                29\n",
      "              MINIATURE                    28\n",
      "              FAIRYTALE                    21\n",
      "              CINDERELLA                   14\n",
      "              BLUE TYPE                     7\n",
      "              KNUCKLE HEAD                  7\n",
      "NEW YORK      PIE TYPE                     42\n",
      "              HOWDEN TYPE                  39\n",
      "              MINIATURE                    27\n",
      "              BIG MACK TYPE                 2\n",
      "              KNUCKLE HEAD                  1\n",
      "              MIXED HEIRLOOM VARIETIES      1\n",
      "PHILADELPHIA  HOWDEN TYPE                  28\n",
      "              PIE TYPE                     16\n",
      "              MINIATURE                    12\n",
      "              KNUCKLE HEAD                  1\n",
      "Name: count, dtype: int64\n"
     ]
    }
   ],
   "source": [
    "# Put your code here to find the average number of pumpkins coming into terminal markets of each variety.\n",
    "\n",
    "countdf = nedf.groupby(['City Name']).value_counts(['Variety'])\n",
    "\n",
    "print(countdf)\n",
    "\n"
   ]
  },
  {
   "cell_type": "markdown",
   "id": "a2e5cff4",
   "metadata": {},
   "source": [
    "## Bonus Mission\n",
    "\n",
    "Try answering the same questions for the Midwest (Chicago, Detroit, and St. Louis) or the Southeast (Atlanta, Columbia, and Miami) regions."
   ]
  },
  {
   "cell_type": "code",
   "execution_count": 97,
   "id": "1d22b7fd",
   "metadata": {},
   "outputs": [
    {
     "name": "stdout",
     "output_type": "stream",
     "text": [
      "City Name  Variety                 \n",
      "CHICAGO    PIE TYPE                    84\n",
      "           FAIRYTALE                   54\n",
      "           MINIATURE                   50\n",
      "           HOWDEN TYPE                 38\n",
      "           HOWDEN WHITE TYPE           13\n",
      "           MIXED HEIRLOOM VARIETIES     9\n",
      "DETROIT    PIE TYPE                    26\n",
      "           HOWDEN TYPE                  8\n",
      "           MIXED HEIRLOOM VARIETIES     8\n",
      "           HOWDEN WHITE TYPE            2\n",
      "ST. LOUIS  HOWDEN TYPE                 40\n",
      "           MINIATURE                   38\n",
      "           MIXED HEIRLOOM VARIETIES    10\n",
      "           PIE TYPE                    10\n",
      "           HOWDEN WHITE TYPE            5\n",
      "Name: count, dtype: int64\n"
     ]
    }
   ],
   "source": [
    "# Try the bonus mission if you have time!\n",
    "chidf = pd.read_csv(r'C:\\Users\\bccut\\OneDrive\\Desktop\\LaunchCode\\data-analysis-projects\\data-manipulation\\studio\\data-manipulation-studio\\dataset\\chicago_9-24-2016_9-30-2017.csv')\n",
    "detdf = pd.read_csv(r'C:\\Users\\bccut\\OneDrive\\Desktop\\LaunchCode\\data-analysis-projects\\data-manipulation\\studio\\data-manipulation-studio\\dataset\\detroit_9-24-2016_9-30-2017.csv')\n",
    "stldf = pd.read_csv(r'C:\\Users\\bccut\\OneDrive\\Desktop\\LaunchCode\\data-analysis-projects\\data-manipulation\\studio\\data-manipulation-studio\\dataset\\st-louis_9-24-2016_9-30-2017.csv')\n",
    "\n",
    "chidf = chidf.drop(columns=[\"Grade\", \"Origin District\", \"Environment\", \"Unit of Sale\", \"Quality\", \"Condition\", \"Appearance\", \"Storage\", \"Crop\", \"Repack\", \"Trans Mode\"]) \n",
    "detdf = detdf.drop(columns=[\"Grade\", \"Origin District\", \"Environment\", \"Unit of Sale\", \"Quality\", \"Condition\", \"Appearance\", \"Storage\", \"Crop\", \"Repack\", \"Trans Mode\"]) \n",
    "stldf = stldf.drop(columns=[\"Grade\", \"Origin District\", \"Environment\", \"Unit of Sale\", \"Quality\", \"Condition\", \"Appearance\", \"Storage\", \"Crop\", \"Repack\", \"Trans Mode\"])\n",
    "\n",
    "mwdf = pd.concat([chidf, detdf, stldf])\n",
    "\n",
    "salesmwdf = mwdf.groupby(['Package']).mean(['Low Price', 'High Prince'])\n",
    "\n",
    "countmwdf = mwdf.groupby(['City Name']).value_counts(['Variety'])\n",
    "\n",
    "print(countmwdf)\n"
   ]
  },
  {
   "cell_type": "code",
   "execution_count": 99,
   "id": "09dbc152",
   "metadata": {},
   "outputs": [
    {
     "name": "stdout",
     "output_type": "stream",
     "text": [
      "City Name  Variety                 \n",
      "ATLANTA    HOWDEN TYPE                 35\n",
      "           PIE TYPE                    21\n",
      "           MINIATURE                    1\n",
      "COLUMBIA   HOWDEN TYPE                 91\n",
      "           MINIATURE                   54\n",
      "           PIE TYPE                    49\n",
      "           CINDERELLA                  16\n",
      "           MIXED HEIRLOOM VARIETIES    12\n",
      "           BLUE TYPE                   11\n",
      "           FAIRYTALE                   11\n",
      "           KNUCKLE HEAD                11\n",
      "           HOWDEN WHITE TYPE            8\n",
      "MIAMI      HOWDEN TYPE                  2\n",
      "           PIE TYPE                     1\n",
      "Name: count, dtype: int64\n"
     ]
    }
   ],
   "source": [
    "atldf = pd.read_csv(r'C:\\Users\\bccut\\OneDrive\\Desktop\\LaunchCode\\data-analysis-projects\\data-manipulation\\studio\\data-manipulation-studio\\dataset\\atlanta_9-24-2016_9-30-2017.csv')\n",
    "coldf = pd.read_csv(r'C:\\Users\\bccut\\OneDrive\\Desktop\\LaunchCode\\data-analysis-projects\\data-manipulation\\studio\\data-manipulation-studio\\dataset\\columbia_9-24-2016_9-30-2017.csv')\n",
    "miadf = pd.read_csv(r'C:\\Users\\bccut\\OneDrive\\Desktop\\LaunchCode\\data-analysis-projects\\data-manipulation\\studio\\data-manipulation-studio\\dataset\\miami_9-24-2016_9-30-2017.csv')\n",
    "\n",
    "atldf = atldf.drop(columns=[\"Grade\", \"Origin District\", \"Environment\", \"Unit of Sale\", \"Quality\", \"Condition\", \"Appearance\", \"Storage\", \"Crop\", \"Repack\", \"Trans Mode\"]) \n",
    "coldf = coldf.drop(columns=[\"Grade\", \"Origin District\", \"Environment\", \"Unit of Sale\", \"Quality\", \"Condition\", \"Appearance\", \"Storage\", \"Crop\", \"Repack\", \"Trans Mode\"]) \n",
    "miadf = miadf.drop(columns=[\"Grade\", \"Origin District\", \"Environment\", \"Unit of Sale\", \"Quality\", \"Condition\", \"Appearance\", \"Storage\", \"Crop\", \"Repack\", \"Trans Mode\"])\n",
    "\n",
    "sedf = pd.concat([atldf, coldf, miadf])\n",
    "\n",
    "salessedf = sedf.groupby(['Package']).mean(['Low Price', 'High Prince'])\n",
    "\n",
    "countsedf = sedf.groupby(['City Name']).value_counts(['Variety'])\n",
    "\n",
    "print(countsedf)"
   ]
  }
 ],
 "metadata": {
  "kernelspec": {
   "display_name": "Python 3",
   "language": "python",
   "name": "python3"
  },
  "language_info": {
   "codemirror_mode": {
    "name": "ipython",
    "version": 3
   },
   "file_extension": ".py",
   "mimetype": "text/x-python",
   "name": "python",
   "nbconvert_exporter": "python",
   "pygments_lexer": "ipython3",
   "version": "3.12.5"
  }
 },
 "nbformat": 4,
 "nbformat_minor": 5
}
