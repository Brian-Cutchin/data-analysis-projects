{
 "cells": [
  {
   "cell_type": "markdown",
   "id": "2f470e67-1623-4416-b9c2-8367f7834a26",
   "metadata": {},
   "source": [
    "# Exploratory Data Analysis with pandas Studio\n",
    "\n",
    "## Data Analysis of IMDB movies data\n",
    "\n",
    "#### Blocks have been created for your code\n",
    "\n",
    "#### Click on the following link and download the dataset from [Kaggle](https://www.kaggle.com/PromptCloudHQ/imdb-data)."
   ]
  },
  {
   "cell_type": "markdown",
   "id": "34632281-1e15-44b1-a3e3-b82ddacb5cbd",
   "metadata": {},
   "source": [
    "### 1. Read data"
   ]
  },
  {
   "cell_type": "code",
   "execution_count": null,
   "id": "070ebed9-c948-4821-9a24-67f0e3fe8fce",
   "metadata": {},
   "outputs": [],
   "source": [
    "# import pandas\n",
    "import pandas as pd\n",
    "# create your data variabe using .read_csv \n",
    "data = pd.read_csv(r\"C:\\Users\\bccut\\OneDrive\\Desktop\\LaunchCode\\data-analysis-projects\\eda-with-pandas\\studio\\IMDB-Studio\\IMDB-Movie-Data.csv\")\n",
    "# create your data_indexed variable here\n",
    "data_indexed = data.set_index('Rank')\n",
    "\n"
   ]
  },
  {
   "cell_type": "code",
   "execution_count": null,
   "id": "608c357a-271b-49c1-9b96-68b5c1cb7046",
   "metadata": {},
   "outputs": [],
   "source": [
    "# If you are having trouble reading your file, try finding the path.  \n",
    "    # Right click on your data set, on the pop-up menu select \"Copy Path\" then paste it into your read_csv() function."
   ]
  },
  {
   "cell_type": "code",
   "execution_count": null,
   "id": "5d8b578c-750c-491b-98d5-140a237ad940",
   "metadata": {},
   "outputs": [],
   "source": [
    "# Read data with specified explicit index\n",
    "data_indexed = pd.read_csv(r\"C:\\Users\\bccut\\OneDrive\\Desktop\\LaunchCode\\data-analysis-projects\\eda-with-pandas\\studio\\IMDB-Studio\\IMDB-Movie-Data.csv\", index_col = 'Rank')\n",
    "\n",
    "\n",
    "#print(data_indexed)\n",
    "print(data_indexed)"
   ]
  },
  {
   "cell_type": "markdown",
   "id": "f449d3ea-91fe-45f5-8d6b-e6ccab3502d7",
   "metadata": {
    "tags": []
   },
   "source": [
    "### 2. View Data\n",
    "#### As we go through this section, write your own definitions of what each function does as a comment in the code box."
   ]
  },
  {
   "cell_type": "code",
   "execution_count": null,
   "id": "ac9b2d61-7ed5-4e83-995d-c498036f37f9",
   "metadata": {},
   "outputs": [],
   "source": [
    "# Use the head() function to view the first 5 rows of the data set\n",
    "print(data_indexed.head(5))\n",
    "\n",
    "#Returns the first 5 rows of a DataFrame."
   ]
  },
  {
   "cell_type": "code",
   "execution_count": null,
   "id": "3fffca4b-90f4-4f73-a9af-f0b02886f8b3",
   "metadata": {},
   "outputs": [],
   "source": [
    "# Use the tail() function to view the last 5 rows of the data set\n",
    "print(data_indexed.tail(5))\n",
    "\n",
    "#Returns the last 5 rows of a DataFrame."
   ]
  },
  {
   "cell_type": "markdown",
   "id": "e03bbc57-a8cf-48da-9057-3b1f6b642a08",
   "metadata": {},
   "source": [
    "### 3. Understand basic information about the data\n",
    "#### As we go through this section, write your own definitions of what each function does as a comment in the code box."
   ]
  },
  {
   "cell_type": "code",
   "execution_count": null,
   "id": "f303e7fb-0e02-48e2-8390-66eefca899aa",
   "metadata": {},
   "outputs": [],
   "source": [
    "# The info() function: \n",
    "print(data_indexed.info())\n",
    "#List column titles, non-null Count, and data type"
   ]
  },
  {
   "cell_type": "code",
   "execution_count": null,
   "id": "ade5ce1f-7a2a-4940-a0f9-eed7891154ff",
   "metadata": {},
   "outputs": [],
   "source": [
    "# shape:\n",
    "print(data_indexed.shape)\n",
    "\n",
    "# what information does shape provide?  what is the order?\n",
    "#Lets you know how many rows and columns in the data set"
   ]
  },
  {
   "cell_type": "code",
   "execution_count": null,
   "id": "791db782-5041-4259-a3e4-d14c6e2e248a",
   "metadata": {},
   "outputs": [],
   "source": [
    "# columns:\n",
    "print(data_indexed.columns)\n",
    "\n",
    "# what information does columns provide?\n",
    "#Returns the name of the columns"
   ]
  },
  {
   "cell_type": "code",
   "execution_count": null,
   "id": "994c8783-3f4b-4f56-b9fb-1b50193f1fab",
   "metadata": {},
   "outputs": [],
   "source": [
    "# The describe() function: \n",
    "print(data_indexed.describe())\n",
    "\n",
    "#Returns statistical data about any numbers in the columns for the dataset.  Including count, mean, standard deviation, min value, max value, lower, mid and upper quartiles.\n"
   ]
  },
  {
   "cell_type": "markdown",
   "id": "7293ea51-6d32-43ab-8d26-268bdea21de1",
   "metadata": {},
   "source": [
    "### 4. Data Selection -- Indexing and Slicing"
   ]
  },
  {
   "cell_type": "code",
   "execution_count": null,
   "id": "b3e134af-4ef9-4a9f-9ee1-d507905764e7",
   "metadata": {},
   "outputs": [],
   "source": [
    "#  Extract data as series\n",
    "# define and print the variable 'genre'\n",
    "genre_series = data_indexed['Genre']\n",
    "\n",
    "print(genre_series)\n"
   ]
  },
  {
   "cell_type": "code",
   "execution_count": null,
   "id": "33307a39-0656-4598-8489-55bc80a253eb",
   "metadata": {},
   "outputs": [],
   "source": [
    "# Extract the data as a dataframe and print it\n",
    "movies_dataframe = pd.DataFrame(data_indexed)\n",
    "\n",
    "print(movies_dataframe)\n",
    "\n"
   ]
  },
  {
   "cell_type": "code",
   "execution_count": null,
   "id": "0530ffd1-e143-4a7a-a4e2-c2e88de188f9",
   "metadata": {},
   "outputs": [],
   "source": [
    "# Extract data using rows\n",
    "\n",
    "# loc function\n",
    "data_rows = data_indexed.loc[1:50]\n",
    "print(data_rows)\n"
   ]
  },
  {
   "cell_type": "code",
   "execution_count": null,
   "id": "7ed5a16d-7302-4c0c-bf9e-0295a8cee090",
   "metadata": {},
   "outputs": [],
   "source": [
    "# iloc function\n",
    "\n",
    "data_location = data_indexed[25:30]"
   ]
  },
  {
   "cell_type": "markdown",
   "id": "35d10282-730f-49c3-bca1-55a990811c80",
   "metadata": {},
   "source": [
    "### 5. Data Selection - Based on Conditional Filtering"
   ]
  },
  {
   "cell_type": "code",
   "execution_count": null,
   "id": "97cac6a1-dd88-4a8c-86e8-514312bf1bb0",
   "metadata": {},
   "outputs": [],
   "source": [
    "# Use the code block to select movies that have been released between 2010-2016, with a rating of less than 6.0, but generated a signifianct (top) revenue.\n",
    "\n",
    "select_movies = movies_dataframe[(movies_dataframe['Year'] >= 2010) & (movies_dataframe['Year'] <= 2016) & (movies_dataframe['Rating'] < 6.0) & (movies_dataframe['Revenue (Millions)'] > movies_dataframe['Revenue (Millions)'].quantile(0.5))]"
   ]
  },
  {
   "cell_type": "code",
   "execution_count": 117,
   "id": "f0c045a1-200a-4d58-9b9f-480edb106765",
   "metadata": {},
   "outputs": [],
   "source": [
    "# Note: The article is expecting more than 1 Twilight movie at the time of publishing.  \n",
    "#To find the second Twilight movie, try manipulating the quantile value.  \n",
    "#How specific can you get?\n",
    "select_movies = movies_dataframe[(movies_dataframe['Year'] >= 2010) & (movies_dataframe['Year'] <= 2016) & (movies_dataframe['Rating'] < 6.0) & (movies_dataframe['Revenue (Millions)'] > movies_dataframe['Revenue (Millions)'].quantile(0.94))]\n",
    "\n",
    "\n",
    "print(select_movies.sort_values(by = 'Revenue (Millions)', ascending=False))\n"
   ]
  },
  {
   "cell_type": "code",
   "execution_count": null,
   "id": "5f04a46e-5d8e-4bda-a917-945bdc81a9e2",
   "metadata": {},
   "outputs": [],
   "source": []
  }
 ],
 "metadata": {
  "kernelspec": {
   "display_name": "Python 3 (ipykernel)",
   "language": "python",
   "name": "python3"
  },
  "language_info": {
   "codemirror_mode": {
    "name": "ipython",
    "version": 3
   },
   "file_extension": ".py",
   "mimetype": "text/x-python",
   "name": "python",
   "nbconvert_exporter": "python",
   "pygments_lexer": "ipython3",
   "version": "3.10.12"
  }
 },
 "nbformat": 4,
 "nbformat_minor": 5
}
